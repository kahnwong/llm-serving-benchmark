{
 "cells": [
  {
   "cell_type": "code",
   "execution_count": null,
   "id": "0",
   "metadata": {},
   "outputs": [],
   "source": [
    "import seaborn as sns\n",
    "import pandas as pd"
   ]
  },
  {
   "cell_type": "code",
   "execution_count": null,
   "id": "1",
   "metadata": {},
   "outputs": [],
   "source": [
    "from analysis import extract"
   ]
  },
  {
   "cell_type": "code",
   "execution_count": null,
   "id": "2",
   "metadata": {},
   "outputs": [],
   "source": [
    "times, stats = extract.extract_stats()"
   ]
  },
  {
   "cell_type": "code",
   "execution_count": null,
   "id": "3",
   "metadata": {},
   "outputs": [],
   "source": [
    "stats_df = pd.DataFrame(stats).rename(\n",
    "    columns={\"mean\": \"mean_s\", \"median\": \"median_s\", \"min\": \"min_s\", \"max\": \"max_s\"}\n",
    ")\n",
    "stats_df"
   ]
  },
  {
   "cell_type": "code",
   "execution_count": null,
   "id": "4",
   "metadata": {},
   "outputs": [],
   "source": [
    "stats_df.set_index(\"framework\").plot(kind=\"bar\")"
   ]
  },
  {
   "cell_type": "code",
   "execution_count": null,
   "id": "5",
   "metadata": {},
   "outputs": [],
   "source": [
    "stats_df[stats_df.framework.isin([\"cpp-llamafile\", \"rs-mistralrs\"])].set_index(\n",
    "    \"framework\"\n",
    ").plot(kind=\"bar\")"
   ]
  },
  {
   "cell_type": "code",
   "execution_count": null,
   "id": "6",
   "metadata": {},
   "outputs": [],
   "source": [
    "times_df = (\n",
    "    pd.DataFrame(times)\n",
    "    .reset_index()\n",
    "    .rename(columns={\"index\": \"iteration\", \"time\": \"time_s\"})\n",
    ")\n",
    "times_df"
   ]
  },
  {
   "cell_type": "code",
   "execution_count": null,
   "id": "7",
   "metadata": {},
   "outputs": [],
   "source": [
    "colors = [\"#F34B7D\", \"#02ADD8\", \"#011E47\", \"#DEA584\"]\n",
    "sns.set_palette(sns.color_palette(colors))\n",
    "\n",
    "sns.scatterplot(data=times_df, x=\"iteration\", y=\"time_s\", hue=\"framework\")"
   ]
  },
  {
   "cell_type": "code",
   "execution_count": null,
   "id": "8",
   "metadata": {},
   "outputs": [],
   "source": [
    "colors = [\"#F34B7D\", \"#02ADD8\", \"#DEA584\"]\n",
    "sns.set_palette(sns.color_palette(colors))\n",
    "\n",
    "sns.scatterplot(\n",
    "    data=times_df[~times_df.framework.isin([\"py-huggingface\"])],\n",
    "    x=\"iteration\",\n",
    "    y=\"time_s\",\n",
    "    hue=\"framework\",\n",
    ")"
   ]
  },
  {
   "cell_type": "code",
   "execution_count": null,
   "id": "9",
   "metadata": {},
   "outputs": [],
   "source": [
    "colors = [\"#F34B7D\", \"#DEA584\"]\n",
    "sns.set_palette(sns.color_palette(colors))\n",
    "\n",
    "sns.scatterplot(\n",
    "    data=times_df[~times_df.framework.isin([\"py-huggingface\", \"go-ollama\"])],\n",
    "    x=\"iteration\",\n",
    "    y=\"time_s\",\n",
    "    hue=\"framework\",\n",
    ")"
   ]
  },
  {
   "cell_type": "code",
   "execution_count": null,
   "id": "10",
   "metadata": {},
   "outputs": [],
   "source": []
  },
  {
   "cell_type": "code",
   "execution_count": null,
   "id": "11",
   "metadata": {},
   "outputs": [],
   "source": []
  }
 ],
 "metadata": {
  "kernelspec": {
   "display_name": "Python 3",
   "language": "python",
   "name": "python3"
  },
  "language_info": {
   "codemirror_mode": {
    "name": "ipython",
    "version": 2
   },
   "file_extension": ".py",
   "mimetype": "text/x-python",
   "name": "python",
   "nbconvert_exporter": "python",
   "pygments_lexer": "ipython2",
   "version": "2.7.6"
  }
 },
 "nbformat": 4,
 "nbformat_minor": 5
}
